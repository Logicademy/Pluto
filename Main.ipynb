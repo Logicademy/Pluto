{
 "cells": [
  {
   "cell_type": "code",
   "execution_count": 1,
   "id": "ba489b82-0f5c-48ca-82c1-ceabd6a5c464",
   "metadata": {
    "code": "# hello\naddi x1 x0 0x9\ntest\n",
    "scrolled": false
   },
   "outputs": [
    {
     "data": {
      "application/vnd.jupyter.widget-view+json": {
       "model_id": "70613a22ad94452b9a4383ca9b403a90",
       "version_major": 2,
       "version_minor": 0
      },
      "text/plain": [
       "Textarea(value='', layout=Layout(height='250px', width='100%'), placeholder='Enter RISC-V Code')"
      ]
     },
     "metadata": {},
     "output_type": "display_data"
    },
    {
     "data": {
      "application/vnd.jupyter.widget-view+json": {
       "model_id": "55b13abce0f542ffb9f7250cd32a2d67",
       "version_major": 2,
       "version_minor": 0
      },
      "text/plain": [
       "Button(description='Assemble', style=ButtonStyle())"
      ]
     },
     "metadata": {},
     "output_type": "display_data"
    },
    {
     "data": {
      "application/vnd.jupyter.widget-view+json": {
       "model_id": "ba4f2e121918417e9beb4892849ba804",
       "version_major": 2,
       "version_minor": 0
      },
      "text/plain": [
       "Button(description='Clear', style=ButtonStyle())"
      ]
     },
     "metadata": {},
     "output_type": "display_data"
    },
    {
     "data": {
      "application/vnd.jupyter.widget-view+json": {
       "model_id": "ee7ab5478e5d467487128a26600e4715",
       "version_major": 2,
       "version_minor": 0
      },
      "text/plain": [
       "Output()"
      ]
     },
     "metadata": {},
     "output_type": "display_data"
    }
   ],
   "source": [
    "%run RISCV-Assembler.ipynb"
   ]
  }
 ],
 "metadata": {
  "kernelspec": {
   "display_name": "Python 3 (ipykernel)",
   "language": "python",
   "name": "python3"
  },
  "language_info": {
   "codemirror_mode": {
    "name": "ipython",
    "version": 3
   },
   "file_extension": ".py",
   "mimetype": "text/x-python",
   "name": "python",
   "nbconvert_exporter": "python",
   "pygments_lexer": "ipython3",
   "version": "3.10.4"
  }
 },
 "nbformat": 4,
 "nbformat_minor": 5
}
