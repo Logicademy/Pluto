{
 "cells": [
  {
   "cell_type": "code",
   "execution_count": null,
   "id": "3ac7f814-1ded-4cce-bd01-4125f5fe0a03",
   "metadata": {},
   "outputs": [],
   "source": []
  },
  {
   "cell_type": "code",
   "execution_count": 1,
   "id": "ba489b82-0f5c-48ca-82c1-ceabd6a5c464",
   "metadata": {
    "code": "# hello\naddi x1 x0 0x9\ntest\n"
   },
   "outputs": [
    {
     "data": {
      "text/html": [
       "\n",
       "<textarea id=\"code\" name=\"code\" rows=\"10\" cols=\"50\">\n",
       "</textarea>\n",
       "\n",
       "</style>\n",
       "<script>\n",
       "\n",
       "    CodeMirror.defineMode(\"riscv\", function(config, parserConfig) {\n",
       "        function regexFromWords(words, ins) {\n",
       "            return new RegExp(\"^(?:\" + words.join(\"|\") + \")$\", ins);\n",
       "        }\n",
       "        \n",
       "        var instructions = regexFromWords([\"add\", \"addi\", \"and\", \"andi\", \"auipc\", \"beq\", \"bge\", \"bgeu\", \"blt\", \"bltu\", \"bne\", \"div\", \"divu\", \"ecall\", \"jal\", \"jalr\", \"lb\", \"lbu\", \"lh\", \"lhu\", \"lui\", \"lw\", \"mul\", \"mulh\", \"mulhsu\", \"mulhu\", \"or\", \"ori\", \"rem\", \"remu\", \"sb\", \"sh\", \"sll\", \"slli\", \"slt\", \"slti\", \"sltiu\", \"sltu\", \"srai\", \"srl\", \"srli\", \"sub\", \"sw\", \"xor\", \"xori\", \"beqz\", \"bgez\", \"bgt\", \"bgtu\", \"bgtz\", \"ble\", \"bleu\", \"blez\", \"bltz\", \"bnez\", \"call\", \"jal\", \"jalr\", \"j\", \"jr\", \"la\", \"lb\", \"lbu\", \"lh\", \"lhu\", \"li\", \"lw\", \"mv\", \"neg\", \"nop\", \"ret\", \"not\", \"seqz\", \"sgtz\", \"sltz\", \"snez\", \"sw\", \"tail\", \"seq\", \"sge\", \"sgeu\", \"sgt\", \"sgtu\", \"sle\", \"sleu\", \"sne\"], \"i\");\n",
       "        var registers = regexFromWords([\"x0\", \"x1\", \"x2\", \"x3\", \"x4\", \"x5\", \"x6\", \"x7\", \"x8\", \"x9\", \"x10\", \"x11\", \"x12\", \"x13\", \"x14\", \"x15\", \"x16\", \"x17\", \"x18\", \"x19\", \"x20\", \"x21\", \"x22\", \"x23\", \"x24\", \"x25\", \"x26\", \"x27\", \"x28\", \"x29\", \"x30\", \"x31\", \"zero\", \"ra\", \"sp\", \"gp\", \"tp\", \"t0\", \"t1\", \"t2\", \"s0\", \"s1\", \"a0\", \"a1\", \"a2\", \"a3\", \"a4\", \"a5\", \"a6\", \"a7\", \"s2\", \"s3\", \"s4\", \"s5\", \"s6\", \"s7\", \"s8\", \"s9\", \"s10\", \"s11\", \"t3\", \"t4\", \"t5\", \"t6\"], \"\");\n",
       "        var keywords = regexFromWords([\".data\", \".text\", \".globl\", \".float\", \".double\", \".asciiz\", \".word\", \".byte\"], \"i\");\n",
       "    \n",
       "        function normal(stream, state) {\n",
       "            var ch = stream.next();\n",
       "            \n",
       "            if (ch == \"#\") {\n",
       "                stream.skipToEnd();\n",
       "                return \"comment\";\n",
       "            }\n",
       "            \n",
       "            if (/\\d/.test(ch)) {\n",
       "                stream.eatWhile(/[\\w.%]/);\n",
       "                return \"number\";\n",
       "            }\n",
       "            \n",
       "            if (/[.\\w_]/.test(ch)) {\n",
       "                stream.eatWhile(/[\\w\\\\-_.]/);\n",
       "                return \"variable\";\n",
       "            }       \n",
       "            \n",
       "            return null;\n",
       "            \n",
       "        }\n",
       "        \n",
       "        function string(quote) {\n",
       "            return function(stream, state) {\n",
       "                var escaped = false, ch;\n",
       "                while ((ch = stream.next()) != null) {\n",
       "                    if (ch == quote && !escaped) break;\n",
       "                    escaped = !escaped && ch == \"\\\\\";\n",
       "                }\n",
       "                if (!escaped) state.cur = normal;\n",
       "                return \"string\";\n",
       "            };\n",
       "        }\n",
       "    \n",
       "        return {\n",
       "            startState: function(basecol) {\n",
       "            return { basecol: basecol || 0, indentDepth: 0, cur: normal };\n",
       "        },\n",
       "            token: function(stream, state) {\n",
       "                if (stream.eatSpace()) return null;\n",
       "                var style = state.cur(stream, state);\n",
       "                var word = stream.current();\n",
       "                if (style == \"variable\") {\n",
       "                    if (keywords.test(word)) style = \"keyword\";\n",
       "                     else if (instructions.test(word)) style = \"builtin\";\n",
       "                     else if (registers.test(word)) style = \"variable-2\";\n",
       "                }\n",
       "                return style;\n",
       "            }\n",
       "        };\n",
       "    });\n",
       "    \n",
       "    var codeMirrorInstance = CodeMirror.fromTextArea(document.getElementById(\"code\"), {\n",
       "        lineNumbers: true,\n",
       "        mode: \"riscv\",\n",
       "        readOnly: false,\n",
       "        placeholder: \"Enter RISC-V Code\",\n",
       "    });\n",
       "</script>\n"
      ],
      "text/plain": [
       "<IPython.core.display.HTML object>"
      ]
     },
     "metadata": {},
     "output_type": "display_data"
    }
   ],
   "source": [
    "%run RISCV-Assembler.ipynb"
   ]
  }
 ],
 "metadata": {
  "kernelspec": {
   "display_name": "Python 3 (ipykernel)",
   "language": "python",
   "name": "python3"
  },
  "language_info": {
   "codemirror_mode": {
    "name": "ipython",
    "version": 3
   },
   "file_extension": ".py",
   "mimetype": "text/x-python",
   "name": "python",
   "nbconvert_exporter": "python",
   "pygments_lexer": "ipython3",
   "version": "3.10.0"
  }
 },
 "nbformat": 4,
 "nbformat_minor": 5
}
